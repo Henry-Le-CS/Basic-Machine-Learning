{
  "nbformat": 4,
  "nbformat_minor": 0,
  "metadata": {
    "colab": {
      "provenance": [],
      "collapsed_sections": [
        "xbrrmPGiFYTh"
      ],
      "toc_visible": true,
      "authorship_tag": "ABX9TyO+7iFeUbICBC7v83k5zJP5",
      "include_colab_link": true
    },
    "kernelspec": {
      "name": "python3",
      "display_name": "Python 3"
    },
    "language_info": {
      "name": "python"
    }
  },
  "cells": [
    {
      "cell_type": "markdown",
      "metadata": {
        "id": "view-in-github",
        "colab_type": "text"
      },
      "source": [
        "<a href=\"https://colab.research.google.com/github/Henry-Le-CS/Basic-Machine-Learning/blob/master/Recommender_System_(Collaborative_Filtering)_with_Movies_ratings.ipynb\" target=\"_parent\"><img src=\"https://colab.research.google.com/assets/colab-badge.svg\" alt=\"Open In Colab\"/></a>"
      ]
    },
    {
      "cell_type": "markdown",
      "source": [
        "# Project Description\n",
        "\n",
        "For this project, we will implement a recommender for the users based on the data given in **The MovieLens Datasets: History and Context:** https://dl.acm.org/doi/10.1145/2827872\n",
        "\n",
        "We will use collaborative filtering to apply for this recommender system\n"
      ],
      "metadata": {
        "id": "jIQ9AtWZ4-XB"
      }
    },
    {
      "cell_type": "markdown",
      "source": [
        "# Packages\n",
        "\n",
        "We will apply the following packages for this project\n",
        "\n",
        "- Tensorflow\n",
        "- Matplotlib\n",
        "- Numpy\n",
        "- Pandas"
      ],
      "metadata": {
        "id": "dBmXUk3v5mfu"
      }
    },
    {
      "cell_type": "code",
      "source": [
        "import tensorflow as tf\n",
        "from tensorflow import keras\n",
        "import matplotlib.pyplot as plt\n",
        "import numpy as np\n",
        "import pandas as pd"
      ],
      "metadata": {
        "id": "t65E8Oo66nAk"
      },
      "execution_count": 188,
      "outputs": []
    },
    {
      "cell_type": "markdown",
      "source": [
        "# Dataset\n",
        "\n",
        "We will use the dataset of  MovieLens \"ml-latest-small\". The source can be found above.\n",
        "\n",
        "It contains of $n_u = $ 443 users' rating ranged from 0.5 to 5, with a step of 0.5. There will be $n_m = $ 4778 movies and $n_f = 10 $ features for us to examine.\n",
        "\n",
        "The data will be put in a matrix Y $\\in \\mathbf{R^{n_m \\text{ x } n_u}}$\n",
        "\n",
        "For research purpose, we will include the dataset for X, W, b, and R\n",
        "\n",
        "Where:\n",
        "\n",
        "- X are the feature matrix $\\in \\mathbf{R^{n_m\\text{ x } n_f}}$\n",
        "- W, b are the parameter matrix $\\in \\mathbf{R^{n_u\\text{ x } n_f}} \\text{ and } \\mathbf{R^{n_u}} \\text{ respectively}$\n",
        "- R are the matrix that contrain boolean type to see if the user j had voted for the movie i $\\in \\mathbf{R^{n_m \\text{ x } n_u}}$\n",
        "\n",
        "\n",
        "$\n",
        "\\mathbf{X} = \n",
        "\\begin{bmatrix}\n",
        "--- (\\mathbf{x}^{(0)})^T --- \\\\\n",
        "--- (\\mathbf{x}^{(1)})^T --- \\\\\n",
        "\\vdots \\\\\n",
        "--- (\\mathbf{x}^{(n_m-1)})^T --- \\\\\n",
        "\\end{bmatrix} , \\quad\n",
        "\\mathbf{W} = \n",
        "\\begin{bmatrix}\n",
        "--- (\\mathbf{w}^{(0)})^T --- \\\\\n",
        "--- (\\mathbf{w}^{(1)})^T --- \\\\\n",
        "\\vdots \\\\\n",
        "--- (\\mathbf{w}^{(n_u-1)})^T --- \\\\\n",
        "\\end{bmatrix},\\quad\n",
        "\\mathbf{ b} = \n",
        "\\begin{bmatrix}\n",
        " b^{(0)}  \\\\\n",
        " b^{(1)} \\\\\n",
        "\\vdots \\\\\n",
        "b^{(n_u-1)} \\\\\n",
        "\\end{bmatrix}\\quad\n",
        "$\n",
        "\n",
        "- Each row of matrix X is the feature vector for movie i\n",
        "- Each row of W and b is the parameter vector to recommend for user j\n",
        "\n"
      ],
      "metadata": {
        "id": "O9KL8VE07GWl"
      }
    },
    {
      "cell_type": "code",
      "source": [
        "Y = pd.read_csv('small_movies_Y.csv',header = None).values"
      ],
      "metadata": {
        "id": "E2TAERqD6-nd"
      },
      "execution_count": 229,
      "outputs": []
    },
    {
      "cell_type": "code",
      "source": [
        "print('The first five element of utility matrix Y: \\n',Y[:5])\n",
        "print('The shape of Y: {}'.format(Y.shape))"
      ],
      "metadata": {
        "colab": {
          "base_uri": "https://localhost:8080/"
        },
        "id": "sBZvf2jR7mdZ",
        "outputId": "cc7cbfe2-9ff1-409c-88e0-c4e0d8426a45"
      },
      "execution_count": 230,
      "outputs": [
        {
          "output_type": "stream",
          "name": "stdout",
          "text": [
            "The first five element of utility matrix Y: \n",
            " [[0. 0. 0. ... 0. 0. 0.]\n",
            " [0. 0. 0. ... 0. 0. 0.]\n",
            " [0. 0. 0. ... 0. 0. 0.]\n",
            " [0. 0. 0. ... 0. 0. 0.]\n",
            " [5. 0. 0. ... 4. 3. 3.]]\n",
            "The shape of Y: (4778, 443)\n"
          ]
        }
      ]
    },
    {
      "cell_type": "code",
      "source": [
        "X = pd.read_csv('small_movies_X.csv',header = None).values\n",
        "W = pd.read_csv('small_movies_W.csv',header = None).values\n",
        "b = pd.read_csv('small_movies_b.csv',header = None).values\n",
        "R = pd.read_csv('small_movies_R.csv',header = None).values"
      ],
      "metadata": {
        "id": "VJ5PpHjB7nLu"
      },
      "execution_count": 231,
      "outputs": []
    },
    {
      "cell_type": "code",
      "source": [
        "print('The shape of X: {}'.format(X.shape))\n",
        "print('The shape of W: {}'.format(W.shape))\n",
        "print('The shape of b: {}'.format(b.shape))\n",
        "print('The shape of R: {}'.format(R.shape))"
      ],
      "metadata": {
        "colab": {
          "base_uri": "https://localhost:8080/"
        },
        "id": "igLYEnNOELJI",
        "outputId": "f5e57ef9-bf5b-455e-eb98-8b6cbe513898"
      },
      "execution_count": 232,
      "outputs": [
        {
          "output_type": "stream",
          "name": "stdout",
          "text": [
            "The shape of X: (4778, 10)\n",
            "The shape of W: (443, 10)\n",
            "The shape of b: (1, 443)\n",
            "The shape of R: (4778, 443)\n"
          ]
        }
      ]
    },
    {
      "cell_type": "code",
      "source": [
        "num_movies, num_users = R.shape\n",
        "num_features = W.shape[1]\n",
        "print('The number of movies in the list: ', num_movies)\n",
        "print('The number of users that rated: ', num_users)\n",
        "print('The number of features for each movie: ', num_features)"
      ],
      "metadata": {
        "colab": {
          "base_uri": "https://localhost:8080/"
        },
        "id": "1pQDQ9jPEsUd",
        "outputId": "812726de-46f2-439e-8ebe-d313ef602692"
      },
      "execution_count": 233,
      "outputs": [
        {
          "output_type": "stream",
          "name": "stdout",
          "text": [
            "The number of movies in the list:  4778\n",
            "The number of users that rated:  443\n",
            "The number of features for each movie:  10\n"
          ]
        }
      ]
    },
    {
      "cell_type": "markdown",
      "source": [
        "# Cost Function\n",
        "\n",
        "We define the cost function with respect to X, W, b, as below:\n",
        "\n",
        "$\n",
        "J(X,W,b) = \\frac{1}{2}\\sum_{(i,j):r(i,j)=1}(\\mathbf{w}^{(j)} \\cdot \\mathbf{x}^{(i)} + b^{(j)} - y^{(i,j)})^2 + \\frac{\\lambda}{2} \\sum_{j=0}^{n_u-1}\\sum_{k=0}^{n-1}(\\mathbf{w}^{(j)}_k)^2\n",
        "$\n",
        "\n",
        "Or the vectorized implementation is:\n",
        "\n",
        "$\n",
        "J(X,W,b) = \\frac{1}{2} \\sum{ (XW^T+b-Y)^2} \\odot R + \\frac{\\lambda}{2}\\sum (X^2+W^2)\n",
        "$\n",
        "\n",
        "The $\\odot$ represents the elementwise matrix multiplication\n",
        "\n",
        "We will implement both methods to calculate cost function"
      ],
      "metadata": {
        "id": "xbrrmPGiFYTh"
      }
    },
    {
      "cell_type": "code",
      "source": [
        "def cost_iterative(X,W,R, b, Y,lambda_):\n",
        "  num_movies,num_users = Y.shape\n",
        "  J = 0\n",
        "  for i in range(num_movies):\n",
        "    for j in range(num_users):\n",
        "      if(R[i,j]==1):\n",
        "        J = J + ((W[j].dot(X[i])+b[0,j]-Y[i,j])*R[i,j])**2\n",
        "  J = J/2 + lambda_/2*np.sum(W**2)+lambda_/2*np.sum(X**2)\n",
        "  return J"
      ],
      "metadata": {
        "id": "_Lj5tSfUFtDw"
      },
      "execution_count": 234,
      "outputs": []
    },
    {
      "cell_type": "code",
      "source": [
        "num_users_r = 4\n",
        "num_movies_r = 5 \n",
        "num_features_r = 3\n",
        "\n",
        "X_r = X[:num_movies_r, :num_features_r]\n",
        "W_r = W[:num_users_r,  :num_features_r]\n",
        "b_r = b[0, :num_users_r].reshape(1,-1)\n",
        "Y_r = Y[:num_movies_r, :num_users_r]\n",
        "R_r = R[:num_movies_r, :num_users_r]\n",
        "\n",
        "# Evaluate cost function\n",
        "J = cost_iterative(X_r, W_r,R_r, b_r, Y_r, 0);\n",
        "print(f\"Cost with no regularization: {J:0.2f}\")\n",
        "J = cost_iterative(X_r, W_r,R_r, b_r, Y_r, 1.5);\n",
        "print(f\"Cost with regularization: {J:0.2f}\")\n"
      ],
      "metadata": {
        "colab": {
          "base_uri": "https://localhost:8080/"
        },
        "id": "jsHygeTPHDXr",
        "outputId": "280f0322-a230-41d5-f2ba-892262744aba"
      },
      "execution_count": 235,
      "outputs": [
        {
          "output_type": "stream",
          "name": "stdout",
          "text": [
            "Cost with no regularization: 13.67\n",
            "Cost with regularization: 28.09\n"
          ]
        }
      ]
    },
    {
      "cell_type": "code",
      "source": [
        "def cost_matrix(X,W, R, b, Y, lambda_):\n",
        "  j = tf.reduce_sum(((tf.linalg.matmul(X,tf.transpose(W))+b-Y)*R)**2)/2\n",
        "  j += lambda_/2 * (tf.reduce_sum(X**2)+tf.reduce_sum(W**2))\n",
        "  return j"
      ],
      "metadata": {
        "id": "lZA8JhyHMV8Y"
      },
      "execution_count": 236,
      "outputs": []
    },
    {
      "cell_type": "code",
      "source": [
        "J = cost_matrix(X_r, W_r,R_r, b_r, Y_r, 0);\n",
        "print(f\"Cost with no regularization: {J:0.2f}\")\n",
        "J = cost_matrix(X_r, W_r,R_r, b_r, Y_r, 1.5);\n",
        "print(f\"Cost with regularization: {J:0.2f}\")"
      ],
      "metadata": {
        "colab": {
          "base_uri": "https://localhost:8080/"
        },
        "id": "CDRCXTe_QCuG",
        "outputId": "b0466a35-b11c-41ba-8cff-2e32e9e379e2"
      },
      "execution_count": 237,
      "outputs": [
        {
          "output_type": "stream",
          "name": "stdout",
          "text": [
            "Cost with no regularization: 13.67\n",
            "Cost with regularization: 28.09\n"
          ]
        }
      ]
    },
    {
      "cell_type": "code",
      "source": [],
      "metadata": {
        "id": "CA-vMr5mQQVE"
      },
      "execution_count": 237,
      "outputs": []
    },
    {
      "cell_type": "markdown",
      "source": [
        "# Learning for recommendations\n",
        "\n",
        "Firstly, we need to load the data for the movie list, then we can define our own ratings to test the model.\n",
        "\n",
        "We will load a dataframe and an array to make it easier to use"
      ],
      "metadata": {
        "id": "yMOw4LuvSyUM"
      }
    },
    {
      "cell_type": "code",
      "source": [
        "movies_df = pd.read_csv('Movie_rating.csv')\n",
        "movies_df.head()"
      ],
      "metadata": {
        "colab": {
          "base_uri": "https://localhost:8080/",
          "height": 206
        },
        "id": "GQlh0Tx4S1eG",
        "outputId": "777e51fe-b469-4efe-e53c-e17116b3d1d1"
      },
      "execution_count": 238,
      "outputs": [
        {
          "output_type": "execute_result",
          "data": {
            "text/plain": [
              "   Unnamed: 0  mean rating  number of ratings               title\n",
              "0           0     3.400000                  5   Yards, The (2000)\n",
              "1           1     3.250000                  6  Next Friday (2000)\n",
              "2           2     2.000000                  4    Supernova (2000)\n",
              "3           3     2.000000                  4  Down to You (2000)\n",
              "4           4     2.672414                 29     Scream 3 (2000)"
            ],
            "text/html": [
              "\n",
              "  <div id=\"df-b9a1a0f7-3ee1-4472-b240-194731232661\">\n",
              "    <div class=\"colab-df-container\">\n",
              "      <div>\n",
              "<style scoped>\n",
              "    .dataframe tbody tr th:only-of-type {\n",
              "        vertical-align: middle;\n",
              "    }\n",
              "\n",
              "    .dataframe tbody tr th {\n",
              "        vertical-align: top;\n",
              "    }\n",
              "\n",
              "    .dataframe thead th {\n",
              "        text-align: right;\n",
              "    }\n",
              "</style>\n",
              "<table border=\"1\" class=\"dataframe\">\n",
              "  <thead>\n",
              "    <tr style=\"text-align: right;\">\n",
              "      <th></th>\n",
              "      <th>Unnamed: 0</th>\n",
              "      <th>mean rating</th>\n",
              "      <th>number of ratings</th>\n",
              "      <th>title</th>\n",
              "    </tr>\n",
              "  </thead>\n",
              "  <tbody>\n",
              "    <tr>\n",
              "      <th>0</th>\n",
              "      <td>0</td>\n",
              "      <td>3.400000</td>\n",
              "      <td>5</td>\n",
              "      <td>Yards, The (2000)</td>\n",
              "    </tr>\n",
              "    <tr>\n",
              "      <th>1</th>\n",
              "      <td>1</td>\n",
              "      <td>3.250000</td>\n",
              "      <td>6</td>\n",
              "      <td>Next Friday (2000)</td>\n",
              "    </tr>\n",
              "    <tr>\n",
              "      <th>2</th>\n",
              "      <td>2</td>\n",
              "      <td>2.000000</td>\n",
              "      <td>4</td>\n",
              "      <td>Supernova (2000)</td>\n",
              "    </tr>\n",
              "    <tr>\n",
              "      <th>3</th>\n",
              "      <td>3</td>\n",
              "      <td>2.000000</td>\n",
              "      <td>4</td>\n",
              "      <td>Down to You (2000)</td>\n",
              "    </tr>\n",
              "    <tr>\n",
              "      <th>4</th>\n",
              "      <td>4</td>\n",
              "      <td>2.672414</td>\n",
              "      <td>29</td>\n",
              "      <td>Scream 3 (2000)</td>\n",
              "    </tr>\n",
              "  </tbody>\n",
              "</table>\n",
              "</div>\n",
              "      <button class=\"colab-df-convert\" onclick=\"convertToInteractive('df-b9a1a0f7-3ee1-4472-b240-194731232661')\"\n",
              "              title=\"Convert this dataframe to an interactive table.\"\n",
              "              style=\"display:none;\">\n",
              "        \n",
              "  <svg xmlns=\"http://www.w3.org/2000/svg\" height=\"24px\"viewBox=\"0 0 24 24\"\n",
              "       width=\"24px\">\n",
              "    <path d=\"M0 0h24v24H0V0z\" fill=\"none\"/>\n",
              "    <path d=\"M18.56 5.44l.94 2.06.94-2.06 2.06-.94-2.06-.94-.94-2.06-.94 2.06-2.06.94zm-11 1L8.5 8.5l.94-2.06 2.06-.94-2.06-.94L8.5 2.5l-.94 2.06-2.06.94zm10 10l.94 2.06.94-2.06 2.06-.94-2.06-.94-.94-2.06-.94 2.06-2.06.94z\"/><path d=\"M17.41 7.96l-1.37-1.37c-.4-.4-.92-.59-1.43-.59-.52 0-1.04.2-1.43.59L10.3 9.45l-7.72 7.72c-.78.78-.78 2.05 0 2.83L4 21.41c.39.39.9.59 1.41.59.51 0 1.02-.2 1.41-.59l7.78-7.78 2.81-2.81c.8-.78.8-2.07 0-2.86zM5.41 20L4 18.59l7.72-7.72 1.47 1.35L5.41 20z\"/>\n",
              "  </svg>\n",
              "      </button>\n",
              "      \n",
              "  <style>\n",
              "    .colab-df-container {\n",
              "      display:flex;\n",
              "      flex-wrap:wrap;\n",
              "      gap: 12px;\n",
              "    }\n",
              "\n",
              "    .colab-df-convert {\n",
              "      background-color: #E8F0FE;\n",
              "      border: none;\n",
              "      border-radius: 50%;\n",
              "      cursor: pointer;\n",
              "      display: none;\n",
              "      fill: #1967D2;\n",
              "      height: 32px;\n",
              "      padding: 0 0 0 0;\n",
              "      width: 32px;\n",
              "    }\n",
              "\n",
              "    .colab-df-convert:hover {\n",
              "      background-color: #E2EBFA;\n",
              "      box-shadow: 0px 1px 2px rgba(60, 64, 67, 0.3), 0px 1px 3px 1px rgba(60, 64, 67, 0.15);\n",
              "      fill: #174EA6;\n",
              "    }\n",
              "\n",
              "    [theme=dark] .colab-df-convert {\n",
              "      background-color: #3B4455;\n",
              "      fill: #D2E3FC;\n",
              "    }\n",
              "\n",
              "    [theme=dark] .colab-df-convert:hover {\n",
              "      background-color: #434B5C;\n",
              "      box-shadow: 0px 1px 3px 1px rgba(0, 0, 0, 0.15);\n",
              "      filter: drop-shadow(0px 1px 2px rgba(0, 0, 0, 0.3));\n",
              "      fill: #FFFFFF;\n",
              "    }\n",
              "  </style>\n",
              "\n",
              "      <script>\n",
              "        const buttonEl =\n",
              "          document.querySelector('#df-b9a1a0f7-3ee1-4472-b240-194731232661 button.colab-df-convert');\n",
              "        buttonEl.style.display =\n",
              "          google.colab.kernel.accessAllowed ? 'block' : 'none';\n",
              "\n",
              "        async function convertToInteractive(key) {\n",
              "          const element = document.querySelector('#df-b9a1a0f7-3ee1-4472-b240-194731232661');\n",
              "          const dataTable =\n",
              "            await google.colab.kernel.invokeFunction('convertToInteractive',\n",
              "                                                     [key], {});\n",
              "          if (!dataTable) return;\n",
              "\n",
              "          const docLinkHtml = 'Like what you see? Visit the ' +\n",
              "            '<a target=\"_blank\" href=https://colab.research.google.com/notebooks/data_table.ipynb>data table notebook</a>'\n",
              "            + ' to learn more about interactive tables.';\n",
              "          element.innerHTML = '';\n",
              "          dataTable['output_type'] = 'display_data';\n",
              "          await google.colab.output.renderOutput(dataTable, element);\n",
              "          const docLink = document.createElement('div');\n",
              "          docLink.innerHTML = docLinkHtml;\n",
              "          element.appendChild(docLink);\n",
              "        }\n",
              "      </script>\n",
              "    </div>\n",
              "  </div>\n",
              "  "
            ]
          },
          "metadata": {},
          "execution_count": 238
        }
      ]
    },
    {
      "cell_type": "code",
      "source": [
        "movies = pd.read_csv('Movie_rating.csv')[['mean rating','number of ratings','title']].values\n",
        "movies[:5]"
      ],
      "metadata": {
        "colab": {
          "base_uri": "https://localhost:8080/"
        },
        "id": "v2ILtmQqTelx",
        "outputId": "b1e86a18-d57e-4718-9544-f47852d96cd8"
      },
      "execution_count": 239,
      "outputs": [
        {
          "output_type": "execute_result",
          "data": {
            "text/plain": [
              "array([[3.4, 5, 'Yards, The (2000)'],\n",
              "       [3.25, 6, 'Next Friday (2000)'],\n",
              "       [2.0, 4, 'Supernova (2000)'],\n",
              "       [2.0, 4, 'Down to You (2000)'],\n",
              "       [2.6724137931034484, 29, 'Scream 3 (2000)']], dtype=object)"
            ]
          },
          "metadata": {},
          "execution_count": 239
        }
      ]
    },
    {
      "cell_type": "markdown",
      "source": [
        "Next, I will define my own set of ratings"
      ],
      "metadata": {
        "id": "9PAt_DxLUJYT"
      }
    },
    {
      "cell_type": "code",
      "source": [
        "my_ratings = np.zeros((num_movies))\n",
        "my_ratings[2700] = 4.5   # Toy story 3\n",
        "my_ratings[2609] = 1;  # A random movie\n",
        "my_ratings[929]  = 5   # Lord of the Rings: The Return of the King\n",
        "my_ratings[246]  = 5   # Shrek (2001)\n",
        "my_ratings[2716] = 4   # Inception\n",
        "my_ratings[1150] = 5   # Incredibles, The (2004)\n",
        "my_ratings[382]  = 0.5   # Amelie (Fabuleux destin d'Amélie Poulain, Le)\n",
        "my_ratings[366]  = 5   # Harry Potter and the Sorcerer's Stone (a.k.a. Harry Potter and the Philosopher's Stone) (2001)\n",
        "my_ratings[622]  = 5   # Harry Potter and the Chamber of Secrets (2002)\n",
        "my_ratings[988]  = 1   # Eternal Sunshine of the Spotless Mind (2004)\n",
        "my_ratings[2925] = 2  # Louis Theroux: Law & Disorder (2008)\n",
        "my_ratings[2937] = 1   # Nothing to Declare (Rien à déclarer)\n",
        "my_ratings[793]  = 4.5   # Pirates of the Caribbean: The Curse of the Black Pearl (2003)\n",
        "my_ratings[486] = 5 # Spider-man(2000)\n",
        "my_ratings[1884] = 5 # Spider-man(2000)\n",
        "my_ratings[3846] = 5 # Amazing Spider-man 3\n",
        "my_ratings[3657] = 3.5 #Haunted House 2\n",
        "my_ratings[1929] = 4 #Transformer 2\n",
        "my_ratings[1930] = 4 #Harry Potter and menh lenh phuong hoang\n",
        "my_ratings[3475] = 3  #The conjuring (2013)\n",
        "my_ratings[3904] = 4 #Avengers 2\n",
        "my_ratings[3911] = 5 #Avengers 3\n",
        "my_ratings[3912] = 5 #Thor 3\n",
        "my_ratings[3914] = 5 # Guardian of the galaxy 3\n",
        "my_ratings[3915] = 5 # Captain America 3\n",
        "my_ratings[3916] = 5 # Doctor strange\n",
        "my_ratings[3917] = 4 # Xmen apocalypse\n",
        "my_ratings[3918] = 5 # Spiderman\n",
        "my_ratings[3919] = 5 #Avengers 3\n",
        "my_ratings[2145] = 4 #Iron man"
      ],
      "metadata": {
        "id": "ZCS00tI6T5s8"
      },
      "execution_count": 240,
      "outputs": []
    },
    {
      "cell_type": "code",
      "source": [
        "np.sum(my_ratings>0)"
      ],
      "metadata": {
        "colab": {
          "base_uri": "https://localhost:8080/"
        },
        "id": "I_H5hq5vmrQc",
        "outputId": "6f7da487-ace9-4db6-e007-ffda7108690a"
      },
      "execution_count": 241,
      "outputs": [
        {
          "output_type": "execute_result",
          "data": {
            "text/plain": [
              "30"
            ]
          },
          "metadata": {},
          "execution_count": 241
        }
      ]
    },
    {
      "cell_type": "code",
      "source": [
        "print('My new ratings are:')\n",
        "for i in range(len(my_ratings)):\n",
        "  if(my_ratings[i]>0):\n",
        "    print('{}: {}/5'.format(movies_df.loc[i,'title'],my_ratings[i]))"
      ],
      "metadata": {
        "colab": {
          "base_uri": "https://localhost:8080/"
        },
        "id": "Z7AEE7KKUYwo",
        "outputId": "65285d8e-4789-4ec0-8bdd-1c0bb70f000a"
      },
      "execution_count": 242,
      "outputs": [
        {
          "output_type": "stream",
          "name": "stdout",
          "text": [
            "My new ratings are:\n",
            "Shrek (2001): 5.0/5\n",
            "Harry Potter and the Sorcerer's Stone (a.k.a. Harry Potter and the Philosopher's Stone) (2001): 5.0/5\n",
            "Amelie (Fabuleux destin d'Amélie Poulain, Le) (2001): 0.5/5\n",
            "Spider-Man (2002): 5.0/5\n",
            "Harry Potter and the Chamber of Secrets (2002): 5.0/5\n",
            "Pirates of the Caribbean: The Curse of the Black Pearl (2003): 4.5/5\n",
            "Lord of the Rings: The Return of the King, The (2003): 5.0/5\n",
            "Eternal Sunshine of the Spotless Mind (2004): 1.0/5\n",
            "Incredibles, The (2004): 5.0/5\n",
            "Spider-Man 3 (2007): 5.0/5\n",
            "Transformers (2007): 4.0/5\n",
            "Harry Potter and the Order of the Phoenix (2007): 4.0/5\n",
            "Iron Man (2008): 4.0/5\n",
            "Persuasion (2007): 1.0/5\n",
            "Toy Story 3 (2010): 4.5/5\n",
            "Inception (2010): 4.0/5\n",
            "Louis Theroux: Law & Disorder (2008): 2.0/5\n",
            "Nothing to Declare (Rien à déclarer) (2010): 1.0/5\n",
            "Conjuring, The (2013): 3.0/5\n",
            "Haunted House 2, A (2014): 3.5/5\n",
            "Black Sea (2015): 5.0/5\n",
            "Avengers: Age of Ultron (2015): 4.0/5\n",
            "Avengers: Infinity War - Part I (2018): 5.0/5\n",
            "Thor: Ragnarok (2017): 5.0/5\n",
            "Captain America: Civil War (2016): 5.0/5\n",
            "Doctor Strange (2016): 5.0/5\n",
            "X-Men: Apocalypse (2016): 5.0/5\n",
            "Untitled Spider-Man Reboot (2017): 4.0/5\n",
            "Elsa & Fred (2014): 5.0/5\n",
            "Jim Jefferies: I Swear to God (2009): 5.0/5\n"
          ]
        }
      ]
    },
    {
      "cell_type": "markdown",
      "source": [
        "We need to concatenate the new ratings to the original Y, R and update the necessary variables to normalize them"
      ],
      "metadata": {
        "id": "HfzIPDdtWGIQ"
      }
    },
    {
      "cell_type": "code",
      "source": [
        "Y = pd.read_csv('small_movies_Y.csv',header = None).values\n",
        "R = pd.read_csv('small_movies_R.csv',header = None).values\n",
        "Y = np.c_[my_ratings,Y]\n",
        "R = np.c_[(my_ratings!=0).astype(int), R]"
      ],
      "metadata": {
        "id": "GcKfNrdjVP5D"
      },
      "execution_count": 252,
      "outputs": []
    },
    {
      "cell_type": "code",
      "source": [
        "print('The new shape of Y: {}'.format(Y.shape))\n",
        "print('The new shape of R: {}'.format(R.shape))"
      ],
      "metadata": {
        "colab": {
          "base_uri": "https://localhost:8080/"
        },
        "id": "SYTeVYFWW0bT",
        "outputId": "7e67676f-4d26-4def-d96f-93c8c84a776f"
      },
      "execution_count": 253,
      "outputs": [
        {
          "output_type": "stream",
          "name": "stdout",
          "text": [
            "The new shape of Y: (4778, 444)\n",
            "The new shape of R: (4778, 444)\n"
          ]
        }
      ]
    },
    {
      "cell_type": "code",
      "source": [
        "def normalize(Y, R):\n",
        "  #we need to calculate the average of each row and make it a vector of size mx1\n",
        "  Ymean = (np.sum(Y*R,axis = 1)/np.sum(R,axis = 1)+1e-12)\n",
        "  Ymean = Ymean.reshape(-1,1)\n",
        "  Ynorm = Y - np.multiply(Ymean, R)\n",
        "  return Ymean, Ynorm"
      ],
      "metadata": {
        "id": "DMDJnRHTW4Ov"
      },
      "execution_count": 254,
      "outputs": []
    },
    {
      "cell_type": "code",
      "source": [
        "Ymean, Ynorm = normalize(Y,R)"
      ],
      "metadata": {
        "id": "mU3LZFojYChB"
      },
      "execution_count": 255,
      "outputs": []
    },
    {
      "cell_type": "markdown",
      "source": [
        "Let's prepare to train and set the optimizer"
      ],
      "metadata": {
        "id": "QF39uXESZgsY"
      }
    },
    {
      "cell_type": "code",
      "source": [
        "num_movies, num_users = Y.shape\n",
        "num_features = 30\n",
        "\n",
        "# Set Initial Parameters (W, X), use tf.Variable to track these variables\n",
        "tf.random.set_seed(1234) # for consistent results\n",
        "W = tf.Variable(tf.random.normal((num_users,  num_features),dtype=tf.float64),  name='W')\n",
        "X = tf.Variable(tf.random.normal((num_movies, num_features),dtype=tf.float64),  name='X')\n",
        "b = tf.Variable(tf.random.normal((1, num_users),   dtype=tf.float64),  name='b')\n",
        "\n",
        "# Instantiate an optimizer.\n",
        "optimizer = keras.optimizers.Adam(learning_rate=1e-1)"
      ],
      "metadata": {
        "id": "_G_Mvf2MYFU4"
      },
      "execution_count": 256,
      "outputs": []
    },
    {
      "cell_type": "markdown",
      "source": [
        "Let's train them"
      ],
      "metadata": {
        "id": "nteu_YyxZ_O8"
      }
    },
    {
      "cell_type": "code",
      "source": [
        "iterations = 200\n",
        "lambda_ = 1.5\n",
        "for i in range(iterations+1):\n",
        "  with tf.GradientTape() as tape:\n",
        "    costJ = cost_matrix(X,W,R,b,Y,lambda_)\n",
        "  grads = tape.gradient(costJ, [X,W,b])\n",
        "  optimizer.apply_gradients(zip(grads,[X,W,b]))\n",
        "  if i % 20 == 0:\n",
        "    print(f'Iter {i} - Loss: {costJ} \\n')"
      ],
      "metadata": {
        "colab": {
          "base_uri": "https://localhost:8080/"
        },
        "id": "vx6-_lBDYOQi",
        "outputId": "d3895ee5-c9ec-47a2-beee-910c4c841391"
      },
      "execution_count": 257,
      "outputs": [
        {
          "output_type": "stream",
          "name": "stdout",
          "text": [
            "Iter 0 - Loss: 991716.6263689055 \n",
            "\n",
            "Iter 20 - Loss: 58507.66613270386 \n",
            "\n",
            "Iter 40 - Loss: 21895.23431142898 \n",
            "\n",
            "Iter 60 - Loss: 11935.08128950034 \n",
            "\n",
            "Iter 80 - Loss: 8506.281844820549 \n",
            "\n",
            "Iter 100 - Loss: 7017.842224216112 \n",
            "\n",
            "Iter 120 - Loss: 6219.504352702818 \n",
            "\n",
            "Iter 140 - Loss: 5712.406647368076 \n",
            "\n",
            "Iter 160 - Loss: 5350.909261107175 \n",
            "\n",
            "Iter 180 - Loss: 5074.1692804251215 \n",
            "\n",
            "Iter 200 - Loss: 4851.863162494498 \n",
            "\n"
          ]
        }
      ]
    },
    {
      "cell_type": "markdown",
      "source": [
        "# Recommendation\n",
        "\n",
        "I will recommend movies for myself as no one is free to do so :<\n",
        "To predict the ratings of a movie i for a user j, we have:\n",
        "\n",
        "$\\mathbf{y}_{i,j} = \\mathbf{x}_i×\\mathbf{w}_j+\\mathbf{b}_j$\n",
        "\n",
        "Or generally, we have a vectorized version of the predicted utility matrix as: \n",
        "\n",
        "$\\mathbf{Y} = \\mathbf{X}\\mathbf{W^T}+\\mathbf{b}$\n",
        "\n",
        "Then we denormolize the matrix by simply adding $Y_{mean}$ back to the matrix."
      ],
      "metadata": {
        "id": "5GfUPH1rcUIV"
      }
    },
    {
      "cell_type": "code",
      "source": [
        "p = np.matmul(X.numpy(),W.numpy().T)+b.numpy()\n",
        "p_restore = p+Ymean\n",
        "my_recommended_list = tf.argsort(p[:,0],direction = 'DESCENDING')\n",
        "#I'll list 15 movies for myself to enjoy tonight\n",
        "my_rated = [i for i in range(len(my_ratings)) if my_ratings[i]>0]\n",
        "for i in range(25):\n",
        "  if my_recommended_list[i] not in my_rated:\n",
        "    print('Movie names: {}'.format(movies_df.loc[i,'title']))\n"
      ],
      "metadata": {
        "colab": {
          "base_uri": "https://localhost:8080/"
        },
        "id": "YKimE5a_dGrs",
        "outputId": "3b31ed39-60db-4eb9-f4ed-d893024fb99d"
      },
      "execution_count": 258,
      "outputs": [
        {
          "output_type": "stream",
          "name": "stdout",
          "text": [
            "Movie names: Yards, The (2000)\n",
            "Movie names: Next Friday (2000)\n",
            "Movie names: Supernova (2000)\n",
            "Movie names: Down to You (2000)\n",
            "Movie names: Scream 3 (2000)\n",
            "Movie names: Boondock Saints, The (2000)\n",
            "Movie names: Gun Shy (2000)\n",
            "Movie names: Beach, The (2000)\n",
            "Movie names: Snow Day (2000)\n",
            "Movie names: Tigger Movie, The (2000)\n",
            "Movie names: Hanging Up (2000)\n",
            "Movie names: Whole Nine Yards, The (2000)\n",
            "Movie names: Black Tar Heroin: The Dark End of the Street (2000)\n",
            "Movie names: Wonder Boys (2000)\n",
            "Movie names: Chain of Fools (2000)\n",
            "Movie names: Next Best Thing, The (2000)\n",
            "Movie names: What Planet Are You From? (2000)\n",
            "Movie names: Mission to Mars (2000)\n"
          ]
        }
      ]
    },
    {
      "cell_type": "markdown",
      "source": [
        "# Conclusion\n",
        "\n",
        "Collaborative Filtering tends to find what similar users would like and the recommendations to be provided and in order to classify the users into clusters of similar types and recommend each user according to the preference of its cluster.\n",
        "\n",
        "Therefore, I intentionally choose action, sci-fi movies to to rate. The result turns out to be good enough. Perhaps, I might need to rate more  movies like other people to see it works perfectly or the data need to concentrate on recent years."
      ],
      "metadata": {
        "id": "RJ_-PzBakmJV"
      }
    }
  ]
}